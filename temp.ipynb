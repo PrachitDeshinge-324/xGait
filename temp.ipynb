{
 "cells": [
  {
   "cell_type": "code",
   "execution_count": 2,
   "id": "d5b89a08",
   "metadata": {},
   "outputs": [
    {
     "name": "stdout",
     "output_type": "stream",
     "text": [
      "Loaded data from visualization_analysis/enhanced_gallery.json\n",
      "Top-level keys: ['gallery', 'track_to_person', 'person_counter', 'statistics', 'metadata']\n"
     ]
    }
   ],
   "source": [
    "import json\n",
    "import sys\n",
    "\n",
    "file_path = \"visualization_analysis/enhanced_gallery.json\"\n",
    "\n",
    "# Read the JSON file\n",
    "data = None\n",
    "with open(file_path, 'r') as file:\n",
    "    data = json.load(file)\n",
    "print(f\"Loaded data from {file_path}\")\n",
    "if isinstance(data, dict):\n",
    "    print(\"Top-level keys:\", list(data.keys()))\n",
    "elif isinstance(data, list):\n",
    "    print(f\"Loaded list with {len(data)} items\")\n",
    "    print(\"First item preview:\", json.dumps(data[0], indent=2) if data else \"List is empty\")\n"
   ]
  },
  {
   "cell_type": "code",
   "execution_count": 2,
   "id": "a3f75b44",
   "metadata": {},
   "outputs": [
    {
     "name": "stdout",
     "output_type": "stream",
     "text": [
      "Type of gallery: <class 'dict'>\n",
      "Gallery keys: ['Prachit', 'Ashutosh', 'Nayan']\n"
     ]
    }
   ],
   "source": [
    "print(\"Type of gallery:\", type(data['gallery']))\n",
    "if isinstance(data['gallery'], dict):\n",
    "    print(\"Gallery keys:\", list(data['gallery'].keys())[:5])\n",
    "elif isinstance(data['gallery'], list):\n",
    "    print(\"Gallery size:\", len(data['gallery']))\n",
    "    print(\"First item:\", json.dumps(data['gallery'][0], indent=2))\n"
   ]
  },
  {
   "cell_type": "code",
   "execution_count": 3,
   "id": "d30cd866",
   "metadata": {},
   "outputs": [
    {
     "name": "stdout",
     "output_type": "stream",
     "text": [
      "Sample track_to_person mapping:\n",
      "Track 1 → Person A\n",
      "Track 2 → Person B\n",
      "Track 3 → Person C\n",
      "Track 4 → Person A\n",
      "Track 5 → Person B\n"
     ]
    }
   ],
   "source": [
    "print(\"Sample track_to_person mapping:\")\n",
    "for track_id, person_id in list(data['track_to_person'].items())[:5]:\n",
    "    print(f\"Track {track_id} → Person {person_id}\")\n"
   ]
  },
  {
   "cell_type": "code",
   "execution_count": 4,
   "id": "87a1ac46",
   "metadata": {},
   "outputs": [
    {
     "name": "stdout",
     "output_type": "stream",
     "text": [
      "Person counter: 1\n"
     ]
    }
   ],
   "source": [
    "print(\"Person counter:\", data['person_counter'])\n"
   ]
  },
  {
   "cell_type": "code",
   "execution_count": 5,
   "id": "8cb7ff78",
   "metadata": {},
   "outputs": [
    {
     "name": "stdout",
     "output_type": "stream",
     "text": [
      "Statistics overview: {\n",
      "  \"total_embeddings_stored\": 47,\n",
      "  \"contexts_captured\": [\n",
      "    \"forward_front\",\n",
      "    \"left_front\",\n",
      "    \"right_front\",\n",
      "    \"steady_front\",\n",
      "    \"backward_front\"\n",
      "  ]\n",
      "}\n"
     ]
    }
   ],
   "source": [
    "print(\"Statistics overview:\", json.dumps(data['statistics'], indent=2))\n"
   ]
  },
  {
   "cell_type": "code",
   "execution_count": 6,
   "id": "ce594ee7",
   "metadata": {},
   "outputs": [
    {
     "name": "stdout",
     "output_type": "stream",
     "text": [
      "Metadata: {\n",
      "  \"max_embeddings_per_context\": 20,\n",
      "  \"similarity_threshold\": 0.6,\n",
      "  \"min_confidence\": 0.3,\n",
      "  \"save_timestamp\": \"2025-07-09T17:58:11.777116\"\n",
      "}\n"
     ]
    }
   ],
   "source": [
    "print(\"Metadata:\", json.dumps(data['metadata'], indent=2))\n"
   ]
  },
  {
   "cell_type": "code",
   "execution_count": 7,
   "id": "21655dce",
   "metadata": {},
   "outputs": [
    {
     "name": "stdout",
     "output_type": "stream",
     "text": [
      "\n",
      "===== GALLERY =====\n",
      "gallery has 3 keys\n",
      "A: {'person_name': 'A', 'embeddings_by_context': {'backward_front': [{'embedding': [0.06711713969707489\n",
      "B: {'person_name': 'B', 'embeddings_by_context': {'right_front': [{'embedding': [-0.02666701190173626, \n",
      "C: {'person_name': 'C', 'embeddings_by_context': {'steady_front': [{'embedding': [-0.000404779188102111\n",
      "\n",
      "===== TRACK_TO_PERSON =====\n",
      "track_to_person has 5 keys\n",
      "1: A\n",
      "2: B\n",
      "3: C\n",
      "\n",
      "===== PERSON_COUNTER =====\n",
      "person_counter = 1\n",
      "\n",
      "===== STATISTICS =====\n",
      "statistics has 2 keys\n",
      "total_embeddings_stored: 47\n",
      "contexts_captured: ['forward_front', 'left_front', 'right_front', 'steady_front', 'backward_front']\n",
      "\n",
      "===== METADATA =====\n",
      "metadata has 4 keys\n",
      "max_embeddings_per_context: 20\n",
      "similarity_threshold: 0.6\n",
      "min_confidence: 0.3\n"
     ]
    }
   ],
   "source": [
    "for key in data:\n",
    "    print(f\"\\n===== {key.upper()} =====\")\n",
    "    value = data[key]\n",
    "    if isinstance(value, dict):\n",
    "        print(f\"{key} has {len(value)} keys\")\n",
    "        for i, (k, v) in enumerate(value.items()):\n",
    "            print(f\"{k}: {str(v)[:100]}\")\n",
    "            if i == 2: break\n",
    "    elif isinstance(value, list):\n",
    "        print(f\"{key} is a list with {len(value)} items\")\n",
    "        print(\"First item:\", json.dumps(value[0], indent=2) if value else \"Empty list\")\n",
    "    else:\n",
    "        print(f\"{key} = {value}\")\n"
   ]
  },
  {
   "cell_type": "code",
   "execution_count": 8,
   "id": "6881c2bb",
   "metadata": {},
   "outputs": [
    {
     "name": "stdout",
     "output_type": "stream",
     "text": [
      "backward_front: 5 embeddings\n",
      "forward_front: 3 embeddings\n",
      "right_front: 27 embeddings\n",
      "left_front: 11 embeddings\n",
      "steady_front: 1 embeddings\n"
     ]
    }
   ],
   "source": [
    "from collections import defaultdict\n",
    "\n",
    "# Initialize a defaultdict to collect embeddings by context\n",
    "embeddings_by_context = defaultdict(list)\n",
    "\n",
    "# Loop through all persons in the gallery\n",
    "for person_id, person_data in data['gallery'].items():\n",
    "    embeddings = person_data.get('embeddings_by_context', {})\n",
    "    for context, context_embeddings in embeddings.items():\n",
    "        for item in context_embeddings:\n",
    "            embedding = item.get('embedding')\n",
    "            if embedding:\n",
    "                embeddings_by_context[context].append(embedding)\n",
    "\n",
    "# Convert defaultdict to regular dict (optional)\n",
    "embeddings_by_context = dict(embeddings_by_context)\n",
    "\n",
    "# Print summary\n",
    "for context, embeddings in embeddings_by_context.items():\n",
    "    print(f\"{context}: {len(embeddings)} embeddings\")\n"
   ]
  },
  {
   "cell_type": "code",
   "execution_count": 15,
   "id": "126d09b3",
   "metadata": {},
   "outputs": [
    {
     "name": "stdout",
     "output_type": "stream",
     "text": [
      "Context 'backward_front': Average Cosine Similarity = 0.8965\n",
      "Context 'right_front': Average Cosine Similarity = 0.8372\n",
      "Context 'left_front': Average Cosine Similarity = 0.8942\n"
     ]
    }
   ],
   "source": [
    "from sklearn.metrics.pairwise import cosine_similarity\n",
    "import numpy as np\n",
    "\n",
    "def get_person_embeddings(person_id):\n",
    "    return data['gallery'][person_id]['embeddings_by_context']\n",
    "\n",
    "def compute_average_similarity(person_a_embeddings, person_b_embeddings):\n",
    "    similarities = {}\n",
    "    shared_contexts = set(person_a_embeddings.keys()) & set(person_b_embeddings.keys())\n",
    "\n",
    "    for context in shared_contexts:\n",
    "        a_vecs = [e['embedding'] for e in person_a_embeddings[context]]\n",
    "        b_vecs = [e['embedding'] for e in person_b_embeddings[context]]\n",
    "\n",
    "        # Convert to NumPy arrays for cosine similarity\n",
    "        a_array = np.array(a_vecs)\n",
    "        b_array = np.array(b_vecs)\n",
    "\n",
    "        # Compute pairwise cosine similarities\n",
    "        sim_matrix = cosine_similarity(a_array, b_array)\n",
    "        avg_similarity = sim_matrix.mean()\n",
    "\n",
    "        similarities[context] = avg_similarity\n",
    "\n",
    "    return similarities\n",
    "\n",
    "# Get embeddings\n",
    "person_a_embeddings = get_person_embeddings('Prachit')\n",
    "person_b_embeddings = get_person_embeddings('Ashutosh')\n",
    "\n",
    "# Compute similarity\n",
    "similarity_scores = compute_average_similarity(person_a_embeddings, person_b_embeddings)\n",
    "\n",
    "# Print results\n",
    "for context, score in similarity_scores.items():\n",
    "    print(f\"Context '{context}': Average Cosine Similarity = {score:.4f}\")\n",
    "\n",
    "if not similarity_scores:\n",
    "    print(\"No shared contexts between Person A and Person B.\")\n"
   ]
  },
  {
   "cell_type": "code",
   "execution_count": 3,
   "id": "4ba1480e",
   "metadata": {},
   "outputs": [
    {
     "name": "stdout",
     "output_type": "stream",
     "text": [
      "\n",
      "Similarity Matrix:\n",
      "      Prachit  Ashutosh  Nayan\n",
      "Prachit  0.9188  0.819  0.8517  \n",
      "Ashutosh  0.819  0.9378  0.8361  \n",
      "Nayan  0.8517  0.8361  0.9233  \n"
     ]
    }
   ],
   "source": [
    "from sklearn.metrics.pairwise import cosine_similarity\n",
    "import numpy as np\n",
    "import itertools\n",
    "\n",
    "# Function to get embeddings for one person\n",
    "def get_person_embeddings(person_id):\n",
    "    return data['gallery'][person_id]['embeddings_by_context']\n",
    "\n",
    "# Compute average cosine similarity across shared contexts\n",
    "def compute_avg_context_similarity(embeddings_a, embeddings_b):\n",
    "    shared_contexts = set(embeddings_a.keys()) & set(embeddings_b.keys())\n",
    "    all_similarities = []\n",
    "\n",
    "    for context in shared_contexts:\n",
    "        a_vecs = [e['embedding'] for e in embeddings_a[context]]\n",
    "        b_vecs = [e['embedding'] for e in embeddings_b[context]]\n",
    "\n",
    "        if not a_vecs or not b_vecs:\n",
    "            continue\n",
    "\n",
    "        a_array = np.array(a_vecs)\n",
    "        b_array = np.array(b_vecs)\n",
    "\n",
    "        sim_matrix = cosine_similarity(a_array, b_array)\n",
    "        avg_sim = sim_matrix.mean()\n",
    "        all_similarities.append(avg_sim)\n",
    "\n",
    "    if all_similarities:\n",
    "        return np.mean(all_similarities)\n",
    "    else:\n",
    "        return None  # No shared context\n",
    "\n",
    "# Get all person IDs\n",
    "person_ids = list(data['gallery'].keys())\n",
    "\n",
    "# Initialize similarity matrix\n",
    "similarity_matrix = {}\n",
    "\n",
    "for person1 in person_ids:\n",
    "    similarity_matrix[person1] = {}\n",
    "    for person2 in person_ids:\n",
    "        emb1 = get_person_embeddings(person1)\n",
    "        emb2 = get_person_embeddings(person2)\n",
    "        sim = compute_avg_context_similarity(emb1, emb2)\n",
    "        similarity_matrix[person1][person2] = round(sim, 4) if sim is not None else None\n",
    "\n",
    "# Print matrix\n",
    "print(\"\\nSimilarity Matrix:\")\n",
    "header = \"      \" + \"  \".join([f\"{pid:>5}\" for pid in person_ids])\n",
    "print(header)\n",
    "for pid1 in person_ids:\n",
    "    row = f\"{pid1:>5}  \"\n",
    "    for pid2 in person_ids:\n",
    "        val = similarity_matrix[pid1][pid2]\n",
    "        row += f\"{val if val is not None else ' N/A':>5}  \"\n",
    "    print(row)\n"
   ]
  },
  {
   "cell_type": "code",
   "execution_count": null,
   "id": "871c5386",
   "metadata": {},
   "outputs": [],
   "source": []
  }
 ],
 "metadata": {
  "kernelspec": {
   "display_name": "pose",
   "language": "python",
   "name": "python3"
  },
  "language_info": {
   "codemirror_mode": {
    "name": "ipython",
    "version": 3
   },
   "file_extension": ".py",
   "mimetype": "text/x-python",
   "name": "python",
   "nbconvert_exporter": "python",
   "pygments_lexer": "ipython3",
   "version": "3.9.21"
  }
 },
 "nbformat": 4,
 "nbformat_minor": 5
}
